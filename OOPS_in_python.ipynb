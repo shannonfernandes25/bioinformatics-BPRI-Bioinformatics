{
  "nbformat": 4,
  "nbformat_minor": 0,
  "metadata": {
    "colab": {
      "provenance": [],
      "authorship_tag": "ABX9TyNCFSvFSiL+2ZUEmFZzPDhx",
      "include_colab_link": true
    },
    "kernelspec": {
      "name": "python3",
      "display_name": "Python 3"
    },
    "language_info": {
      "name": "python"
    }
  },
  "cells": [
    {
      "cell_type": "markdown",
      "metadata": {
        "id": "view-in-github",
        "colab_type": "text"
      },
      "source": [
        "<a href=\"https://colab.research.google.com/github/shannonfernandes25/bioinformatics-BPRI-Bioinformatics/blob/main/OOPS_in_python.ipynb\" target=\"_parent\"><img src=\"https://colab.research.google.com/assets/colab-badge.svg\" alt=\"Open In Colab\"/></a>"
      ]
    },
    {
      "cell_type": "markdown",
      "source": [
        "Object - real life thing - bulding\n",
        "\n",
        "class - blueprint of the whole code - map\n",
        "\n",
        "method - function (action)\n",
        "\n",
        "attributes - variables (properties)"
      ],
      "metadata": {
        "id": "ngJhO72-n35r"
      }
    },
    {
      "cell_type": "code",
      "execution_count": 2,
      "metadata": {
        "id": "t7U6erR7njC-"
      },
      "outputs": [],
      "source": [
        "class coffeecup:\n",
        "  def __init__(self, color, capacity):\n",
        "    self.color = color\n",
        "    self.capacity = capacity\n",
        "\n",
        "  def fill(self):\n",
        "    print(f\"The {self.color} cup is filled with capacity of {self.capacity} ml\")"
      ]
    },
    {
      "cell_type": "markdown",
      "source": [
        "coffeecup - class\n",
        "\n",
        "fill - method,  init - special method\n",
        "\n",
        "cup1 - object\n",
        "\n",
        "color, capacity - attributes"
      ],
      "metadata": {
        "id": "f0Wx2x8uooHk"
      }
    },
    {
      "cell_type": "markdown",
      "source": [
        "init - special built-in method - it will automatically called when an object will be created from the class"
      ],
      "metadata": {
        "id": "b3wry2UDo93o"
      }
    },
    {
      "cell_type": "code",
      "source": [
        "cup1 = coffeecup(\"blue\", 350)\n",
        "cup1.fill()"
      ],
      "metadata": {
        "colab": {
          "base_uri": "https://localhost:8080/"
        },
        "id": "OZzt6ExeooiS",
        "outputId": "fd9c756c-1578-4432-e019-99f2895487e7"
      },
      "execution_count": 3,
      "outputs": [
        {
          "output_type": "stream",
          "name": "stdout",
          "text": [
            "The blue cup is filled with capacity of 350 ml\n"
          ]
        }
      ]
    },
    {
      "cell_type": "markdown",
      "source": [
        "without init"
      ],
      "metadata": {
        "id": "ETGOa5YLsXA8"
      }
    },
    {
      "cell_type": "code",
      "source": [
        "class Teacup:\n",
        "  def filltea(self):\n",
        "    print(\"The cup is filled with tea\")\n",
        "\n",
        "  def drink(self):\n",
        "    print(\"the person drank the tea\")"
      ],
      "metadata": {
        "id": "P4OJ5T-wo3aS"
      },
      "execution_count": 4,
      "outputs": []
    },
    {
      "cell_type": "code",
      "source": [
        "cup2 = Teacup()"
      ],
      "metadata": {
        "id": "kTAqi8CMsuUn"
      },
      "execution_count": 5,
      "outputs": []
    },
    {
      "cell_type": "code",
      "source": [
        "cup2.filltea()\n",
        "cup2.drink()"
      ],
      "metadata": {
        "colab": {
          "base_uri": "https://localhost:8080/"
        },
        "id": "cWJptVzHsy6b",
        "outputId": "1517f762-78a9-481f-812b-ccea3d904f27"
      },
      "execution_count": 6,
      "outputs": [
        {
          "output_type": "stream",
          "name": "stdout",
          "text": [
            "The cup is filled with tea\n",
            "the person drank the tea\n"
          ]
        }
      ]
    },
    {
      "cell_type": "code",
      "source": [
        "class cell:\n",
        "  def __init__(self, cell_type, sequence):\n",
        "    self.cell_type = cell_type\n",
        "    self.sequence =sequence\n",
        "\n",
        "  def replicate(self):\n",
        "    print(f\"The {self.cell_type} cell has the following sequence of {self.sequence}\")"
      ],
      "metadata": {
        "id": "yJWKnHSps3cZ"
      },
      "execution_count": 8,
      "outputs": []
    },
    {
      "cell_type": "code",
      "source": [
        "x = cell(\"eukaryotes\", \"ATGCGACT\")\n",
        "x.replicate()"
      ],
      "metadata": {
        "colab": {
          "base_uri": "https://localhost:8080/"
        },
        "id": "Lgs6Tg3btNcJ",
        "outputId": "c3468ddf-cb95-45a9-ddf4-c78b32529e6a"
      },
      "execution_count": 9,
      "outputs": [
        {
          "output_type": "stream",
          "name": "stdout",
          "text": [
            "The eukaryotes cell has the following sequence of ATGCGACT\n"
          ]
        }
      ]
    },
    {
      "cell_type": "code",
      "source": [],
      "metadata": {
        "id": "gUIeDOY5tkNN"
      },
      "execution_count": null,
      "outputs": []
    }
  ]
}